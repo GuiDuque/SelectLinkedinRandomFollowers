{
 "cells": [
  {
   "cell_type": "markdown",
   "metadata": {},
   "source": [
    "# Selecionador de seguidores - Parte 1:\n",
    "\n",
    "Após instalar as bibliotecas necessárias, siga executando uma célula por vez, após anterior finalizar"
   ]
  },
  {
   "cell_type": "code",
   "execution_count": 1,
   "metadata": {},
   "outputs": [],
   "source": [
    "import asyncio\n",
    "from pyppeteer import launch\n",
    "import pandas as pd\n",
    "import requests\n",
    "from json import loads\n",
    "import time\n",
    "import random\n",
    "from datetime import datetime\n",
    "\n",
    "random.seed(datetime.now())\n",
    "\n",
    "# se ainda não tiver instalado, descomente abaixo\n",
    "# !pip install pyppeteer\n",
    "# !pip install pandas\n",
    "# !pip install requests"
   ]
  },
  {
   "cell_type": "markdown",
   "metadata": {},
   "source": [
    "# Inicialização do browser para o usuário logar\n",
    "\n",
    "Faça login até chegar na página inicial do seu linkedin\n"
   ]
  },
  {
   "cell_type": "code",
   "execution_count": 2,
   "metadata": {},
   "outputs": [
    {
     "data": {
      "text/plain": [
       "<pyppeteer.network_manager.Response at 0x287437afec8>"
      ]
     },
     "execution_count": 2,
     "metadata": {},
     "output_type": "execute_result"
    }
   ],
   "source": [
    "browser = await launch(\n",
    "        headless=False,\n",
    "        args=['--no-sandbox'],\n",
    "        autoClose=False\n",
    "    )\n",
    "page = await browser.newPage()\n",
    "await page.goto(\"https://www.linkedin.com/login\")\n",
    "\n",
    "# digite se login e senha no browser e siga até estar na sua página inicial"
   ]
  },
  {
   "cell_type": "markdown",
   "metadata": {},
   "source": [
    "# Acessa a página de seguidores para montar os headers da API autenticada\n",
    "\n",
    "As vezes essa execução dá errado, pois não é determinística. Se der tudo certo, deve printar '8' no final. Caso contrário execute novamente. Se der erro por vezes repetidas, experimente rolar a barra de navegação até o final manualmente na tela de seguidores enquanto essa célula executa."
   ]
  },
  {
   "cell_type": "code",
   "execution_count": 3,
   "metadata": {},
   "outputs": [
    {
     "name": "stdout",
     "output_type": "stream",
     "text": [
      "8\n"
     ]
    }
   ],
   "source": [
    "await page.goto(\"https://www.linkedin.com/feed/followers/\")\n",
    "global headers\n",
    "headers = {}\n",
    "await page.setRequestInterception(True)\n",
    "async def intercept(request):\n",
    "    if (\"https://www.linkedin.com/voyager/api/feed/richRecommendedEntities\" in request.url ):\n",
    "        global headers\n",
    "        headers = request.headers\n",
    "        print(len(headers))\n",
    "    await request.continue_()\n",
    "page.on('request', lambda req: asyncio.ensure_future(intercept(req)))\n",
    "await page.evaluate( \"() => { window.scrollBy(0, window.innerHeight); }\");\n",
    "time.sleep(5)\n",
    "cookie1 = await page.cookies()\n",
    "s = []\n",
    "for e in cookie1:\n",
    "    s.append(f\"{e['name']}={e['value']}\")\n",
    "cookie1_str = \"; \".join(s)\n",
    "headers = {key: str(value) for key, value in headers.items()}\n",
    "headers[\"cookie\"] = cookie1_str"
   ]
  },
  {
   "cell_type": "markdown",
   "metadata": {},
   "source": [
    "# funções que consultam e tratam os dados dos seguidores via API\n",
    "\n",
    "A api do linkedin tem paginação e retorna um json complexo, por isso são necessárias funções de extração crua, refinamento e filtragem dos dados dos seguidores para serem apresentados em uma tabela"
   ]
  },
  {
   "cell_type": "code",
   "execution_count": 49,
   "metadata": {},
   "outputs": [],
   "source": [
    "def get_followers_data(countw, index_start, headers):\n",
    "    try:\n",
    "        url = \"https://www.linkedin.com/voyager/api/feed/richRecommendedEntities?count={countw}&q=followerRecommendations&start={index_start}\"\n",
    "        resp = requests.get(url=url.format(countw=countw, index_start=index_start), headers=headers)\n",
    "        if resp.status_code == 200:\n",
    "            data = loads(resp.content.decode(\"utf-8\"))\n",
    "            return data\n",
    "        else:\n",
    "            raise Exception(f\"not allowed. headers or coockies problems. Status: {resp.status_code}\")\n",
    "    except Exception as e:\n",
    "        print(f\"error: {e}\")\n",
    "        return []\n",
    "    \n",
    "def refine_follower_data(data):\n",
    "    folowers = {}\n",
    "    for element in data['data']['elements']:\n",
    "        for inc in data['included']:\n",
    "            ek = element.get(\"*recommendedEntity\", \"a\").split(\":member:\")[-1]\n",
    "            ik = inc.get('entityUrn',\"b\").split(\":\")[-1]\n",
    "            if ek == ik:\n",
    "                e = dict()\n",
    "                e.update(element)\n",
    "                e.update(inc)\n",
    "                folowers[ek] = folowers.get(ek, {})\n",
    "                folowers[ek].update(e)\n",
    "    return folowers\n",
    "\n",
    "def filter_follower_data(fl):\n",
    "    return {\n",
    "        \"seguidores\": fl[\"followerCount\"],\n",
    "        \"nome\": f\"{fl['firstName']} {fl['lastName']}\",\n",
    "        \"cargo\": fl[\"occupation\"],\n",
    "        \"link\": f'https://www.linkedin.com/in/{fl[\"publicIdentifier\"]}'\n",
    "    }\n",
    "\n",
    "def get_followers(count, index_start, headers):\n",
    "    data = get_followers_data(count, index_start, headers)\n",
    "    followers = refine_follower_data(data)\n",
    "    filtered_followers = [filter_follower_data(fl) for fl in followers.values()]\n",
    "    return pd.DataFrame.from_dict(filtered_followers)\n",
    "    "
   ]
  },
  {
   "cell_type": "markdown",
   "metadata": {},
   "source": [
    "# Parte que executa a consulta aleatória de fato.\n",
    "\n",
    "Se quiser um grupo mais diverso, recomendo executar diversas consultas trazendo 1 por vez. Porem, se quiser trazer vários em uma única consulta, basta aumentar a quantidade. Não sei como a API agrupa os seguidores, mas acredito que tenha relação com o número de seguidores deles e também pela data que começaram a nos seguir.\n",
    "\n",
    "A quantidade de seguidores definida não precisa ser exata, mas se for muito abaixo, tende a deixar de fora seus seguidores que possuem mais seguidores (não sei o porque. Não encontrei nenhuma documentação e tudo foi descoberto na tentativa e erro).\n"
   ]
  },
  {
   "cell_type": "code",
   "execution_count": 50,
   "metadata": {},
   "outputs": [
    {
     "data": {
      "text/html": [
       "<div>\n",
       "<style scoped>\n",
       "    .dataframe tbody tr th:only-of-type {\n",
       "        vertical-align: middle;\n",
       "    }\n",
       "\n",
       "    .dataframe tbody tr th {\n",
       "        vertical-align: top;\n",
       "    }\n",
       "\n",
       "    .dataframe thead th {\n",
       "        text-align: right;\n",
       "    }\n",
       "</style>\n",
       "<table border=\"1\" class=\"dataframe\">\n",
       "  <thead>\n",
       "    <tr style=\"text-align: right;\">\n",
       "      <th></th>\n",
       "      <th>seguidores</th>\n",
       "      <th>nome</th>\n",
       "      <th>cargo</th>\n",
       "      <th>link</th>\n",
       "    </tr>\n",
       "  </thead>\n",
       "  <tbody>\n",
       "    <tr>\n",
       "      <td>0</td>\n",
       "      <td>1174</td>\n",
       "      <td>Edilaine Gropo</td>\n",
       "      <td>Commercial Manager</td>\n",
       "      <td>https://www.linkedin.com/in/edilaine-gropo</td>\n",
       "    </tr>\n",
       "    <tr>\n",
       "      <td>1</td>\n",
       "      <td>424</td>\n",
       "      <td>Lays Nogueira</td>\n",
       "      <td>Analista de Sistemas Sênior | Accenture Brasil</td>\n",
       "      <td>https://www.linkedin.com/in/laysnogueira</td>\n",
       "    </tr>\n",
       "  </tbody>\n",
       "</table>\n",
       "</div>"
      ],
      "text/plain": [
       "   seguidores            nome                                           cargo  \\\n",
       "0        1174  Edilaine Gropo                              Commercial Manager   \n",
       "1         424   Lays Nogueira  Analista de Sistemas Sênior | Accenture Brasil   \n",
       "\n",
       "                                         link  \n",
       "0  https://www.linkedin.com/in/edilaine-gropo  \n",
       "1    https://www.linkedin.com/in/laysnogueira  "
      ]
     },
     "execution_count": 50,
     "metadata": {},
     "output_type": "execute_result"
    }
   ],
   "source": [
    "url_api_seguidores = \"https://www.linkedin.com/voyager/api/feed/richRecommendedEntities?count={quantidade}&q=followerRecommendations&start={index_escolhidos}\"\n",
    "quantidade = 2\n",
    "total_aproximado_de_seguidores = 11500\n",
    "index_escolhidos = random.randint(0, total_aproximado_de_seguidores)\n",
    "\n",
    "fs = get_followers(quantidade, index_escolhidos, headers)\n",
    "\n",
    "fs"
   ]
  },
  {
   "cell_type": "code",
   "execution_count": null,
   "metadata": {},
   "outputs": [],
   "source": []
  }
 ],
 "metadata": {
  "kernelspec": {
   "display_name": "Python 3",
   "language": "python",
   "name": "python3"
  },
  "language_info": {
   "codemirror_mode": {
    "name": "ipython",
    "version": 3
   },
   "file_extension": ".py",
   "mimetype": "text/x-python",
   "name": "python",
   "nbconvert_exporter": "python",
   "pygments_lexer": "ipython3",
   "version": "3.7.4"
  }
 },
 "nbformat": 4,
 "nbformat_minor": 4
}
